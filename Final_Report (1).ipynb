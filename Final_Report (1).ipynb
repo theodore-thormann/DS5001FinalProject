{
 "cells": [
  {
   "cell_type": "markdown",
   "id": "879d73fa-ecdd-47eb-a2c8-523310d271dd",
   "metadata": {},
   "source": [
    "# DS5001 Final Report"
   ]
  },
  {
   "cell_type": "markdown",
   "id": "f24dd661-f4bf-45af-b8ff-13ffd34569e2",
   "metadata": {},
   "source": [
    "Name: Theodore Thormann (nxb5kp@virginia.edu) <br>\n",
    "Class: DS5001 Spring '23"
   ]
  },
  {
   "cell_type": "markdown",
   "id": "82bbd9c8-b4ee-4c38-b676-dc654bde8774",
   "metadata": {},
   "source": [
    "## Introduction"
   ]
  },
  {
   "cell_type": "markdown",
   "id": "e8a30eb7-a66f-4b5c-be0b-753efd72a154",
   "metadata": {},
   "source": [
    "Horror films have been a staple of cinema since the first horror movie “Le Manoir du Diable” or, in English, “The House of the Devil” directed by the French director Georges Méliès in 1896. Since then, the genre has experienced ups and downs throughout the decade and has exploded into a plethora of subgenres like the slasher, the demonic possession film, the paranormal, among many, many others. Until recently, horror films have largely been dismissed by the academic community as drivel. However, a recent revival in the horror genre has led many academics to look more critically at the horror films of the past in a more scholarly light. Kendall Phillips book “Projected Fears: Horror Films and American Culture” offers a strong thesis on why horror films are worthy of the academic spotlight when discussing American culture. He says, “…while any given film can be frightening to any given individual, certain films become the touchstone of fear for an entire generation. It is as if, at certain points, a particular film so captures our cultural anxieties and concerns that our collective fears seem projected onto the screen before us.” (Phillips). <br>\n",
    "<br>\n",
    "Phillips touches on an interesting point about certain films that transcend their genre and strike fear into an entire generation. While Phillips posits this generational fear, this paper is interested in seeing if those fears can be seen in text analysis and perhaps even if there are certain films from a generation they are noticeable across all generations. This question of fear over time is not completely novel as can be seen through John Kenneth Muir’s scholarly book series which investigates horror films by decade. While the majority of this project looks at seminal horror films from the 1980s, 1990s, and 2000s as a whole, there are points when a finer examination is conducted into each of these generations."
   ]
  },
  {
   "cell_type": "markdown",
   "id": "45070408-7a60-425a-96f4-1f366ae93701",
   "metadata": {},
   "source": [
    "## Source Data"
   ]
  },
  {
   "cell_type": "markdown",
   "id": "27957171-b3d7-4151-9d9b-95cc2c9b477d",
   "metadata": {},
   "source": [
    "The corpus used for this project was titled “Film Corpus 2.0” and was obtained from the Baskin Engineering Lab at University of California, Santa Cruz. The corpus contains the complete text files for 1068 films. The .txt files were originally obtained by the authors in 2015 by scraping files from imdsb.com, a film script database. The original corpus contains 149 horror film scripts.\n",
    "\n",
    "37 horror films were chosen for this analysis. These 37 films were chosen for several reasons. Primarily, they used conventional scene slug lines such as INT or EXT or MONTAGE to denote scene changes. Scene changes were a crucial delimiter in my analysis and were used to divide screenplays similar to how chapters divide novels. The screenplay also had to have a reasonable number of scenes to be chosen for analysis. A screenplay needed to have a minimum of 50 scenes for this analysis. 50 scenes was an arbitrary cutoff. The average film in this corpus has 153 scenes and an average of 22,654 tokens.\n",
    "\n",
    "I also chose these 37 films because they were all from the three decades analyzed in this paper. The three decades analyzed in this paper are the 1980s, the 1990s, and the 2000s. Films released between 1980-1989 were placed in the 1980s category, films released between 1990-1999 were placed in the 1990s category, and films released between 2000-2010 were placed in the 2000s category. Two films from 2010, Insidious and Legion, were present in my corpus and were placed in the 2000s decade for use in this analysis. There are 8 films in the 1980 category, 10 films in the 1990 category, and 19 films in the 2000s category.\n",
    "\n",
    "A link to the 37 .txt screenplay files can be found here at UVA Box: https://virginia.box.com/s/jmrw18xum970zrjkupuk6e7yy0claq6k"
   ]
  },
  {
   "cell_type": "markdown",
   "id": "cd8326f7-9c5e-4ea1-919d-0be98f3ccd16",
   "metadata": {},
   "source": [
    "## Data Model"
   ]
  },
  {
   "cell_type": "markdown",
   "id": "7f38593b-df9a-4c7f-a888-ac6204f71f48",
   "metadata": {},
   "source": [
    "These tables can be accessed at the following link: https://virginia.box.com/s/4zfi385yvykwvuui179slxfubf22t5cq\n",
    "\n",
    "This project consists of 21 CSV tables\n",
    "\n",
    "### Data Table Descriptions\n",
    "\n",
    "#### CORPUS & CORPUS_1980 & CORPUS_1990 & CORPUS_2000:\n",
    "This table uses the OHCO: Movie_id, Scene_id, Sent_num, Token_num as an index. The purpose of this table is to capture all tokens present in the corpus and split them into different levels using the OHCO. This table also contains the part of speech of the associated token. This was accomplished using Natural Language Toolkit (NLTK) auto POS tagging in python.\n",
    "\n",
    "| Column    | Type  | Description                                                                            |\n",
    "|-----------|-------|----------------------------------------------------------------------------------------|\n",
    "| movie_id  | int   | The ID of the associated film in the corpus                                            |\n",
    "| scene_id  | int   | The scene number in the film                                                           |\n",
    "| sent_num  | int   | The sentence number in the scene                                                       |\n",
    "| token_num | int   | The token number in the sentence                                                       |\n",
    "| pos_tuple | object | The token and its NLTK tagged part of speech                                           |\n",
    "| pos       | object   | The part of speech associated with the token                                           |\n",
    "| token_str | object   | A token in the corpus                                                                  |\n",
    "| term_str  | object   | A normalized version of a token in the corpus in lowercase with any characters removed |\n",
    "\n",
    "CORPUS contains all the films in the corpus.\n",
    "CORPUS_1980 & CORPUS_1990 & CORPUS_2000 contain only films for that decade.\n",
    "\n",
    "#### VOCAB & VOCAB_1980 & VOCAB_1990 & VOCAB_2000:\n",
    "This table uses term_str (a list of every term present in the corpus) as the index. This table includes information about to how each term appears in the corpus.\n",
    "\n",
    "| Column         | Type  | Description                                                                  |\n",
    "|----------------|-------|------------------------------------------------------------------------------|\n",
    "| term_str       | object   | A term in the corpus                                                         |\n",
    "| n              | int   | The number of times that term appears in the corpus                          |\n",
    "| n_chars        | int   | The number of characters of the term                                         |\n",
    "| p              | float | The probability of that term appearing in the corpus                         |\n",
    "| i              | float | The inverse log of the probabily                                             |\n",
    "| max_pos        | object   | The most frequently associated part-of-space category for each token         |\n",
    "| n_pos          | object   | The number of parts of speech associated with that token                     |\n",
    "| cat_pos        | list  | A concatenated list of all the parts of speech associated with that token    |\n",
    "| stop           | int   | 1 indicates the token is a stopword, 0 indicates the token is not a stopword |\n",
    "| stem_porter    | object   | Porter stemming algorithm applied to the term                                |\n",
    "| stem_snowball  | object   | Snowball stemming algorithm applied to the term                              |\n",
    "| stem_lancaster | object   | Lancaster stemming algorithm applied to the term                             |\n",
    "| tfidf          | float | Term frequency-inverse document frequency                                    |\n",
    "| dfidf          | float | Document frequency-inverse document frequency                                    |\n",
    "\n",
    "VOCAB contains all the films in the corpus\n",
    "VOCAB_1980 & VOCAB_1990 & VOCAB_2000 contain only vocab tables for films for that decade\n",
    "\n",
    "\n",
    "#### LIB:\n",
    "This table contains the metadata of the project. The source_file_path contain data relevant to the author's machine and will need to be altered to be used on other machines.\n",
    "\n",
    "| Column           | Type | Description                       |\n",
    "|------------------|------|-----------------------------------|\n",
    "| movie_id         | int  | The ID associated with that movie |\n",
    "| movie_title      | object  | The title of the movie            |\n",
    "| source_file_path | object  | The path to the source file       |\n",
    "| year             | int  | The year of the film's release    |\n",
    "| decade           | int  | The decade of the film's release  |\n",
    "| movie_len        | int  | The number of tokens in the movie |\n",
    "| n_scenes         | int  | The number of scenes in the movie |\n",
    "\n",
    "#### DOC:\n",
    "This table also contains the metadata for the project with a `title` column added. This table is mostly used in figures produced for the interpretation of the corpus.\n",
    "\n",
    "| Column           | Type | Description                                |\n",
    "|------------------|------|--------------------------------------------|\n",
    "| movie_id         | int  | The ID associated with that movie          |\n",
    "| scene_id         | int  | The scene number in the movie              |\n",
    "| movie_title      | object  | The title of the movie                     |\n",
    "| source_file_path | object  | The path to the source file                |\n",
    "| year             | int  | The year of the film's release             |\n",
    "| decade           | int  | The decade of the film's release           |\n",
    "| movie_len        | int  | The number of tokens in the movie          |\n",
    "| n_scenes         | int  | The number of scenes in the movie          |\n",
    "| title            | object  | The movie title concatenated with the year |\n",
    "\n",
    "\n",
    "#### TFIDF (Term Frequency-Inverse Document Frequency):\n",
    "This table is used to quantify the importance of each term in a collection of documents. It is constructed by calculating two values for each term in each document: the term frequency (TF), which measures how frequently the term appears in the document, and the inverse document frequency (IDF), which measures how important the term is across the entire collection of documents. A high TFIDF score indicates that the term is both frequent in the document and rare in the collection, making it a good indicator of the document's content.\n",
    "\n",
    "This table consists of one column that is the movie_id, one column that is the scene_id in that movie, and a column for each of the top 1000 terms by TFIDF in the corpus. The number below is that term's TFIDF value in that scene.\n",
    "\n",
    "| Column   | Type | Description                                               |\n",
    "|----------|------|-----------------------------------------------------------|\n",
    "| movie_id | int  | The movie ID associated with a particular film            |\n",
    "| scene_id | int  | The scene number in that film                             |\n",
    "| term     | float  | Each token in the corpus is represented as a separate column. The number below that column is that term's TFIDF value in that scene. |\n",
    "\n",
    "#### DFIDF (Document Frequency-Inverse Document Frequency):\n",
    "\n",
    "| Column   | Type  | Description          |\n",
    "|----------|-------|----------------------|\n",
    "| term_str | object   | A term in the corpus |\n",
    "| DFIDF    | float | DFIDF of term        |\n",
    "\n",
    "#### COMPS:\n",
    "This is a table of principal components to be used in principal component analysis (PCA).\n",
    "\n",
    "| Column   | Type  | Description                                              |\n",
    "|----------|-------|----------------------------------------------------------|\n",
    "| pc_id    | object   | ID number associated with that principal component       |\n",
    "| eig_val  | float | The eigen value associated with that principal component |\n",
    "| term_str | object   | A term in the corpus                                     |\n",
    "\n",
    "#### LOADINGS:\n",
    "This table contains information on how much the associated term contributes to the PCA.\n",
    "\n",
    "| Column   | Type  | Description                                                         |\n",
    "|----------|-------|---------------------------------------------------------------------|\n",
    "| term_str | object   | A term in the corpus                                                |\n",
    "| pc_val   | float | The contribution of the index term to the principal component value |\n",
    "\n",
    "#### DCM (Document Component Matrix):\n",
    "This table contains information on how much the associated term contributes to the PCA in the context of a film and scene.\n",
    "\n",
    "| Column   | Type  | Description                                                         |\n",
    "|----------|-------|---------------------------------------------------------------------|\n",
    "| movie_id | int   | The movie ID associated with a particular film                      |\n",
    "| scene_id | int   | The scene number in that film                                       |\n",
    "| pc_id    | float | The contribution of the index term to the principal component value |\n",
    "\n",
    "#### THETA:\n",
    "This table shows how much each scene in the movie relates to the given topic of the topic model \n",
    "\n",
    "| Column            | Type  | Description                                                                    |\n",
    "|-------------------|-------|--------------------------------------------------------------------------------|\n",
    "| movie_id          | int   | The movie ID associated with a particular film                                 |\n",
    "| scene_id          | int   | The scene number in that film                                                  |\n",
    "| topic_association | float | How much each scene in the movie relates to the given topic of the topic model |\n",
    "\n",
    "#### PHI:\n",
    "This table shows how much each term contributes to a given topic\n",
    "\n",
    "| Column   | Type | Description             |\n",
    "|----------|------|-------------------------|\n",
    "| topic_id | object  | The ID of a given topic |\n",
    "| term_str | object  | A term in the corpus    |\n",
    "\n",
    "#### TOPICS:\n",
    "This table shows every topic and what words are associated with that topic\n",
    "\n",
    "| Column   | Type | Description             |\n",
    "|----------|------|-------------------------|\n",
    "| topic_id | object  | The ID of a given topic |\n",
    "| term_associations | object  | Words assoicated with the topic   |\n",
    "\n",
    "#### sentiment_polarity:\n",
    "This table shows the sentiment of a movie from -1 to 1 with -1 being negative sentiment and 1 being positive sentiment. Sentiment is a measure of the emotional tone expressed in the language used in the text.\n",
    "\n",
    "| Column      | Type  | Description                                                                                                       |\n",
    "|-------------|-------|-------------------------------------------------------------------------------------------------------------------|\n",
    "| movie_title | object   | The title of a film                                                                   |\n",
    "| sentiment   | float | The overall sentiment of a movie between -1 and 1 with -1 being negative sentiment and 1 being positive sentiment |\n",
    "\n",
    "#### emotions:\n",
    "This table shows how much each film is associated with one of eight different emotions. The eight emotions are from Plutchik's Wheel of Emotions, which identifies eight primary emotions.\n",
    "\n",
    "| Column       | Type  | Description                                                                                                       |\n",
    "|--------------|-------|-------------------------------------------------------------------------------------------------------------------|\n",
    "| movie_title  | object   | The title of a film                                                                                               |\n",
    "| anger        | float | Amount the film is associated with anger on a scale of 0-1                                                        |\n",
    "| anticipation | float | Amount the film is associated with anticipation on a scale of 0-1                                                 |\n",
    "| disgust      | float | Amount the film is associated with disgust on a scale of 0-1                                                      |\n",
    "| fear         | float | Amount the film is associated with fear on a scale of 0-1                                                         |\n",
    "| joy          | float | Amount the film is associated with joy on a scale of 0-1                                                          |\n",
    "| sadness      | float | Amount the film is associated with sadness on a scale of 0-1                                                      |\n",
    "| surprise     | float | Amount the film is associated with surprise on a scale of 0-1                                                     |\n",
    "| trust        | float | Amount the film is associated with trust on a scale of 0-1                                                        |\n",
    "| sentiment    | float | The overall sentiment of a movie between -1 and 1 with -1 being negative sentiment and 1 being positive sentiment |\n"
   ]
  },
  {
   "cell_type": "markdown",
   "id": "6cbacc61-8bf6-46c4-8643-81c034912700",
   "metadata": {},
   "source": [
    "## Exploration"
   ]
  },
  {
   "cell_type": "markdown",
   "id": "06e8ee39-9883-43f9-bf6f-c5c0a9f5a40f",
   "metadata": {},
   "source": [
    "### Cluster Analysis"
   ]
  },
  {
   "cell_type": "markdown",
   "id": "cb11fb4b-fb3c-4a8f-a8b0-8373a0703cd7",
   "metadata": {},
   "source": [
    "Hierarchical clustering was performed using all films in my corpus. 5 different distance measures were used. City block distance measure was used on the corpus without norming using weighted linkage visualized below:\n",
    "\n",
    "Cosine distance measure was used on the corpus without norming using ward linkage visualized below:\n",
    "\n",
    "![Drag Racing](Dragster.jpg)\n",
    "\n",
    "Euclidean distance measure was used on the L2 normalized corpus using ward linkage visualized below:\n",
    "(Euclidean distance)\n",
    "Jaccard distance measure was used on the L0 normalized corpus using weighted linkage visualized below:\n",
    "(Jaccard distance)\n",
    "Jensen-Shannon measure was used on the L1 normalized corpus using weighted linkage visualized below:\n",
    "(Jensen-Shannon)"
   ]
  },
  {
   "cell_type": "markdown",
   "id": "1e8db394-2d24-4686-ab70-7a8f6b795e7f",
   "metadata": {},
   "source": [
    "## Interpretation"
   ]
  }
 ],
 "metadata": {
  "kernelspec": {
   "display_name": "Python 3 (ipykernel)",
   "language": "python",
   "name": "python3"
  },
  "language_info": {
   "codemirror_mode": {
    "name": "ipython",
    "version": 3
   },
   "file_extension": ".py",
   "mimetype": "text/x-python",
   "name": "python",
   "nbconvert_exporter": "python",
   "pygments_lexer": "ipython3",
   "version": "3.9.7"
  }
 },
 "nbformat": 4,
 "nbformat_minor": 5
}
